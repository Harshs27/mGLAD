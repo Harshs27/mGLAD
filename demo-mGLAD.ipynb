{
 "cells": [
  {
   "cell_type": "markdown",
   "metadata": {},
   "source": [
    "## A minimalist example for recovering sparse graphs using `mGLAD`\n",
    "\n",
    "Fitting meta-GLAD on a batch of erdos-renyi random sparse graphs with samples obtained from a corresponding multivariate Gaussian distribution  \n",
    "\n",
    "### About `mGLAD` \n",
    "A meta learning based approach to recover sparse graphs. This work proposes `mGLAD` which is a unsupervised version of a previous `GLAD` model (GLAD: Learning Sparse Graph Recovery (ICLR 2020 - [link](<https://openreview.net/forum?id=BkxpMTEtPB>)).  \n",
    "\n",
    "Key Benefits & features:  \n",
    "- It is a fast alternative to solving the Graphical Lasso problem as\n",
    "    - GPU based acceleration can be leveraged\n",
    "    - Requires less number of iterations to converge due to neural network based acceleration of the unrolled optimization algorithm (Alternating Minimization).     \n",
    "- mGLAD automatically learns the sparsity related regularization parameters. This gives an added benefit to mGLAD over other graphical lasso solvers.  \n",
    "- The meta loss is the logdet objective of the graphical lasso `1/B(-1*log|theta|+ <S, theta>)`, where `B=batch_size, S=input covariance matrix, theta=predicted precision matrix`.   "
   ]
  },
  {
   "cell_type": "code",
   "execution_count": 2,
   "metadata": {},
   "outputs": [
    {
     "name": "stdout",
     "output_type": "stream",
     "text": [
      "/home/harshx/anaconda3/envs/dagM\n"
     ]
    }
   ],
   "source": [
    "import os, sys\n",
    "# reloads modules automatically before entering the \n",
    "# execution of code typed at the IPython prompt.\n",
    "%load_ext autoreload\n",
    "%autoreload 2\n",
    "# install jupyter-notebook in the env if the prefix does not \n",
    "# show the desired virtual env. \n",
    "print(sys.prefix)\n",
    "import warnings\n",
    "warnings.filterwarnings('ignore')"
   ]
  },
  {
   "cell_type": "code",
   "execution_count": 3,
   "metadata": {},
   "outputs": [
    {
     "data": {
      "text/plain": [
       "'1.9.0'"
      ]
     },
     "execution_count": 3,
     "metadata": {},
     "output_type": "execute_result"
    }
   ],
   "source": [
    "import torch\n",
    "torch.__version__"
   ]
  },
  {
   "cell_type": "markdown",
   "metadata": {},
   "source": [
    "### Create Synthetic data"
   ]
  },
  {
   "cell_type": "code",
   "execution_count": 4,
   "metadata": {
    "scrolled": true
   },
   "outputs": [
    {
     "name": "stdout",
     "output_type": "stream",
     "text": [
      "TrueTheta: (2, 10, 10), Samples (2, 500, 10)\n"
     ]
    }
   ],
   "source": [
    "from scripts import main\n",
    "# Xb = samples batch, trueTheta = corresponding true precision matrices\n",
    "Xb, trueTheta = main.getGLADdata(\n",
    "    num_nodes=10, \n",
    "    sparsity=0.2, \n",
    "    num_samples=500, \n",
    "    batch_size=2\n",
    ")    \n",
    "print(f'TrueTheta: {trueTheta.shape}, Samples {Xb.shape}')"
   ]
  },
  {
   "cell_type": "markdown",
   "metadata": {},
   "source": [
    "### Running the GLAD-Meta algorithm\n",
    "Until Convergence:  \n",
    "\n",
    "    1. Initialize learnable `GLAD` parameters\n",
    "    2. Run the GLAD model\n",
    "    3. Get the meta-loss\n",
    "    4. Backprop\n",
    "\n",
    "Possible reasons if `mGLAD` does not converge: \n",
    "\n",
    "    1. Please re-run. This will run the optimization with different initializations  \n",
    "    2. Lower the learning rate  \n",
    "    3. Change the INIT_DIAG=0/1 in the `GLAD` model parameters\n",
    "    4. Increase the theta_init_offset value (should be >0.1)"
   ]
  },
  {
   "cell_type": "code",
   "execution_count": 14,
   "metadata": {},
   "outputs": [],
   "source": [
    "# main source file for meta-GLAD\n",
    "\n",
    "# Helper functions for DAG Meta\n",
    "from scripts.glad.glad_params import glad_params\n",
    "from scripts.glad import glad\n",
    "from scripts.main import lossGLADmeta\n",
    "from scripts.utils import prepare_data\n",
    "from scripts.utils.metrics import reportMetrics\n",
    "\n",
    "from pprint import pprint\n",
    "\n",
    "def initGLAD():\n",
    "    \"\"\"\n",
    "    Initialize the GLAD model parameters and the optimizer\n",
    "    to be used.\n",
    "    \"\"\"\n",
    "    model = glad_params(theta_init_offset=1, nF=3, H=3)\n",
    "    optimizer = glad.get_optimizers(model)\n",
    "    return model, optimizer\n",
    "\n",
    "def runGLAD(Sb, model_glad):\n",
    "    \"\"\"Run the input through the GLAD meta algorithm.\n",
    "    It executes the following steps in batch mode\n",
    "    1. Run the GLAD model to get initial good regularization\n",
    "    2. Calculate the meta-loss\n",
    "    \n",
    "    Args:\n",
    "        Sb (torch.Tensor BxDxD): The input covariance matrix\n",
    "        metaGLADmodel (dict): Contains the learnable params\n",
    "    \n",
    "    Returns:\n",
    "        loss (torch.scalar): The meta loss \n",
    "        predTheta (torch.Tensor BxDxD): The predicted theta\n",
    "    \"\"\"\n",
    "    # 1. Running the GLAD model \n",
    "    predTheta = glad.glad(Sb, model_glad)\n",
    "    # 2. Calculate the meta-loss\n",
    "    loss = lossGLADmeta(predTheta, Sb)\n",
    "    return loss, predTheta\n",
    "\n",
    "\n",
    "def GLAD_Meta_main(Xb, trueTheta=None, EPOCHS=250):\n",
    "    \"\"\"Running the DAG Meta algorithm.\n",
    "    \n",
    "    Args:\n",
    "        Xb (torch.Tensor BxMxD): The input sample matrix\n",
    "        trueDAG (torch.Tensor BxDxD): The corresponding \n",
    "            true DAGs for reporting metrics.\n",
    "        EPOCHS (int): The number of training epochs\n",
    "        \n",
    "    \"\"\"\n",
    "    # Calculating the batch covariance\n",
    "    Sb = prepare_data.getCovariance(Xb) # BxDxD\n",
    "    # Converting the data to torch \n",
    "    Xb = prepare_data.convertToTorch(Xb, req_grad=False)\n",
    "    Sb = prepare_data.convertToTorch(Sb, req_grad=False)\n",
    "    trueTheta = prepare_data.convertToTorch(\n",
    "        trueTheta,\n",
    "        req_grad=False\n",
    "        )\n",
    "    B, M, D = Xb.shape\n",
    "    # optimizer and model for GLAD\n",
    "    model_glad, optimizer_glad = initGLAD()\n",
    "    # Optimizing for the meta loss\n",
    "    for e in range(EPOCHS):      \n",
    "        # reset the grads to zero\n",
    "        optimizer_glad.zero_grad()\n",
    "        # calculate the loss\n",
    "        loss, predTheta = runGLAD(Sb, model_glad)\n",
    "        # calculate the backward gradients\n",
    "        loss.backward()\n",
    "        if not e%25: print(f'epoch:{e}/{EPOCHS} loss:{loss.detach().numpy()}')\n",
    "        # updating the optimizer params with the grads\n",
    "        optimizer_glad.step()\n",
    "        # reporting the metrics if true DAGs provided\n",
    "        if trueTheta is not None and (e+1)%EPOCHS == 0:\n",
    "            for b in range(B):\n",
    "                compare_theta = reportMetrics(\n",
    "                    trueTheta[b].detach().numpy(), \n",
    "                    predTheta[b].detach().numpy()\n",
    "                )\n",
    "                print(f'Batch:{b} - {compare_theta}')"
   ]
  },
  {
   "cell_type": "code",
   "execution_count": 15,
   "metadata": {
    "scrolled": true
   },
   "outputs": [
    {
     "name": "stdout",
     "output_type": "stream",
     "text": [
      "epoch:0/250 loss:14.798260688781738\n",
      "epoch:25/250 loss:14.316488265991211\n",
      "epoch:50/250 loss:13.990367889404297\n",
      "epoch:75/250 loss:13.66386604309082\n",
      "epoch:100/250 loss:12.982595443725586\n",
      "epoch:125/250 loss:9.633712768554688\n",
      "epoch:150/250 loss:9.097713470458984\n",
      "epoch:175/250 loss:8.861564636230469\n",
      "epoch:200/250 loss:8.712800979614258\n",
      "epoch:225/250 loss:8.62151050567627\n",
      "Batch:0 - {'FDR': 0.16666666666666666, 'TPR': 1.0, 'FPR': 0.05714285714285714, 'SHD': 2, 'nnzTrue': 10, 'nnzPred': 12, 'precsion': 0.8333333333333334, 'recall': 1.0, 'Fbeta': 0.9090909090909091, 'aupr': 1.0, 'auc': 1.0}\n",
      "Batch:1 - {'FDR': 0.0, 'TPR': 1.0, 'FPR': 0.0, 'SHD': 0, 'nnzTrue': 5, 'nnzPred': 5, 'precsion': 1.0, 'recall': 1.0, 'Fbeta': 1.0, 'aupr': 1.0, 'auc': 1.0}\n"
     ]
    }
   ],
   "source": [
    "GLAD_Meta_main(Xb, trueTheta)"
   ]
  },
  {
   "cell_type": "code",
   "execution_count": null,
   "metadata": {},
   "outputs": [],
   "source": []
  }
 ],
 "metadata": {
  "kernelspec": {
   "display_name": "Python 3 (ipykernel)",
   "language": "python",
   "name": "python3"
  },
  "language_info": {
   "codemirror_mode": {
    "name": "ipython",
    "version": 3
   },
   "file_extension": ".py",
   "mimetype": "text/x-python",
   "name": "python",
   "nbconvert_exporter": "python",
   "pygments_lexer": "ipython3",
   "version": "3.8.11"
  }
 },
 "nbformat": 4,
 "nbformat_minor": 2
}
