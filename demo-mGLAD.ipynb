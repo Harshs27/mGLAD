{
 "cells": [
  {
   "cell_type": "markdown",
   "metadata": {},
   "source": [
    "## A minimalist example for recovering sparse graphs using mGLAD\n",
    "\n",
    "Fitting meta-GLAD on a batch of erdos-renyi random sparse graphs with samples obtained from a corresponding multivariate Gaussian distribution"
   ]
  },
  {
   "cell_type": "code",
   "execution_count": 1,
   "metadata": {},
   "outputs": [
    {
     "name": "stdout",
     "output_type": "stream",
     "text": [
      "/home/harshx/anaconda3/envs/dagM\n"
     ]
    }
   ],
   "source": [
    "import os, sys\n",
    "# reloads modules automatically before entering the \n",
    "# execution of code typed at the IPython prompt.\n",
    "%load_ext autoreload\n",
    "%autoreload 2\n",
    "# install jupyter-notebook in the env if the prefix does not \n",
    "# show the desired virtual env. \n",
    "print(sys.prefix)\n",
    "import warnings\n",
    "warnings.filterwarnings('ignore')"
   ]
  },
  {
   "cell_type": "code",
   "execution_count": 2,
   "metadata": {},
   "outputs": [
    {
     "data": {
      "text/plain": [
       "'1.9.0'"
      ]
     },
     "execution_count": 2,
     "metadata": {},
     "output_type": "execute_result"
    }
   ],
   "source": [
    "import torch\n",
    "torch.__version__"
   ]
  },
  {
   "cell_type": "markdown",
   "metadata": {},
   "source": [
    "### Create Synthetic data"
   ]
  },
  {
   "cell_type": "code",
   "execution_count": 3,
   "metadata": {
    "scrolled": true
   },
   "outputs": [
    {
     "name": "stdout",
     "output_type": "stream",
     "text": [
      "Smallest eval = 0.09999999999999981\n",
      "Smallest eval = 0.10000000000000114\n",
      "TrueTheta:\n",
      " (tensor([[[1.8740, 0.0000, 0.9087, 0.0000, 0.0000, 0.0000, 0.0000, 0.0000,\n",
      "          0.0000, 0.0000],\n",
      "         [0.0000, 1.8740, 0.7450, 0.6693, 0.0000, 0.0000, 0.0000, 0.0000,\n",
      "          0.0000, 0.0000],\n",
      "         [0.9087, 0.7450, 1.8740, 0.0000, 0.0000, 0.0000, 0.7367, 0.0000,\n",
      "          0.0000, 0.7409],\n",
      "         [0.0000, 0.6693, 0.0000, 1.8740, 0.0000, 0.0000, 0.0000, 0.7662,\n",
      "          0.0000, 0.0000],\n",
      "         [0.0000, 0.0000, 0.0000, 0.0000, 1.8740, 0.0000, 0.8100, 0.5383,\n",
      "          0.0000, 0.0000],\n",
      "         [0.0000, 0.0000, 0.0000, 0.0000, 0.0000, 1.8740, 0.0000, 0.9144,\n",
      "          0.0000, 0.0000],\n",
      "         [0.0000, 0.0000, 0.7367, 0.0000, 0.8100, 0.0000, 1.8740, 0.0000,\n",
      "          0.0000, 0.0000],\n",
      "         [0.0000, 0.0000, 0.0000, 0.7662, 0.5383, 0.9144, 0.0000, 1.8740,\n",
      "          0.8584, 0.0000],\n",
      "         [0.0000, 0.0000, 0.0000, 0.0000, 0.0000, 0.0000, 0.0000, 0.8584,\n",
      "          1.8740, 0.0000],\n",
      "         [0.0000, 0.0000, 0.7409, 0.0000, 0.0000, 0.0000, 0.0000, 0.0000,\n",
      "          0.0000, 1.8740]],\n",
      "\n",
      "        [[1.4867, 0.0000, 0.0000, 0.0000, 0.5972, 0.7708, 0.0000, 0.8773,\n",
      "          0.0000, 0.0000],\n",
      "         [0.0000, 1.4867, 0.0000, 0.0000, 0.0000, 0.0000, 0.0000, 0.0000,\n",
      "          0.0000, 0.0000],\n",
      "         [0.0000, 0.0000, 1.4867, 0.5725, 0.0000, 0.0000, 0.0000, 0.0000,\n",
      "          0.0000, 0.0000],\n",
      "         [0.0000, 0.0000, 0.5725, 1.4867, 0.0000, 0.0000, 0.0000, 0.0000,\n",
      "          0.0000, 0.6026],\n",
      "         [0.5972, 0.0000, 0.0000, 0.0000, 1.4867, 0.0000, 0.0000, 0.0000,\n",
      "          0.7801, 0.0000],\n",
      "         [0.7708, 0.0000, 0.0000, 0.0000, 0.0000, 1.4867, 0.6515, 0.0000,\n",
      "          0.0000, 0.0000],\n",
      "         [0.0000, 0.0000, 0.0000, 0.0000, 0.0000, 0.6515, 1.4867, 0.0000,\n",
      "          0.6555, 0.0000],\n",
      "         [0.8773, 0.0000, 0.0000, 0.0000, 0.0000, 0.0000, 0.0000, 1.4867,\n",
      "          0.0000, 0.0000],\n",
      "         [0.0000, 0.0000, 0.0000, 0.0000, 0.7801, 0.0000, 0.6555, 0.0000,\n",
      "          1.4867, 0.0000],\n",
      "         [0.0000, 0.0000, 0.0000, 0.6026, 0.0000, 0.0000, 0.0000, 0.0000,\n",
      "          0.0000, 1.4867]]]), torch.Size([2, 10, 10]))\n",
      "Samples:\n",
      " (tensor([[[ 0.0759, -0.3222, -0.1871,  ..., -2.2283,  1.6872,  0.7414],\n",
      "         [ 0.0788, -1.2522,  1.4973,  ..., -0.6599,  1.2650, -0.0570],\n",
      "         [-0.1141,  1.0717, -1.5334,  ..., -0.3748,  0.7387,  0.2601],\n",
      "         ...,\n",
      "         [ 1.4851, -0.3938, -0.1310,  ...,  0.4876, -0.2166,  0.2702],\n",
      "         [-1.5306, -0.9220,  3.3093,  ..., -0.3224, -0.8711, -1.7072],\n",
      "         [ 1.6297,  1.9888, -3.3783,  ..., -2.1854,  1.2725,  2.1993]],\n",
      "\n",
      "        [[-0.5377,  0.4732, -0.6828,  ...,  0.0772, -0.2884, -1.5441],\n",
      "         [ 1.1945,  0.7096,  0.1408,  ..., -0.7533, -0.6231,  0.2581],\n",
      "         [-0.2713, -0.1343,  0.3998,  ...,  0.2102, -0.6738,  1.2300],\n",
      "         ...,\n",
      "         [ 2.6423,  0.1039,  1.2616,  ..., -2.1543, -1.2639, -1.4162],\n",
      "         [ 3.2551,  0.2832, -1.3756,  ..., -2.4794, -0.2238,  0.1391],\n",
      "         [-2.9661,  0.3660, -0.1208,  ...,  2.0150, -1.4118, -0.5879]]]), torch.Size([2, 500, 10]))\n"
     ]
    }
   ],
   "source": [
    "from scripts import main\n",
    "# Xb = samples batch, trueTheta = corresponding true precision matrices\n",
    "Xb, trueTheta = main.getGLADdata(\n",
    "    num_nodes=10, \n",
    "    sparsity=0.2, \n",
    "    num_samples=500, \n",
    "    batch_size=2\n",
    ")"
   ]
  },
  {
   "cell_type": "markdown",
   "metadata": {},
   "source": [
    "### Running the GLAD-Meta algorithm\n",
    "Until Convergence:  \n",
    "\n",
    "    1. Initialize learnable GLAD parameters\n",
    "    2. Run the GLAD model\n",
    "    3. Get the meta-loss\n",
    "    4. Backprop"
   ]
  },
  {
   "cell_type": "code",
   "execution_count": 4,
   "metadata": {},
   "outputs": [],
   "source": [
    "# main source file for meta-GLAD\n",
    "\n",
    "# Helper functions for DAG Meta\n",
    "from scripts.glad.glad_model import glad_params\n",
    "from scripts.glad import glad\n",
    "from scripts.main import lossGLADmeta\n",
    "from scripts.utils import prepare_data\n",
    "from scripts.utils.metrics import reportMetrics\n",
    "\n",
    "from pprint import pprint\n",
    "\n",
    "def initGLAD():\n",
    "    \"\"\"\n",
    "    Initialize the GLAD model parameters and the optimizer\n",
    "    to be used.\n",
    "    \"\"\"\n",
    "    model = glad_params(theta_init_offset=0.1, nF=3, H=3)\n",
    "    optimizer = glad.get_optimizers(model)\n",
    "    return model, optimizer\n",
    "\n",
    "def runGLAD(Sb, model_glad):\n",
    "    \"\"\"Run the input through the GLAD meta algorithm.\n",
    "    It executes the following steps in batch mode\n",
    "    1. Run the GLAD model to get initial good regularization\n",
    "    2. Calculate the meta-loss\n",
    "    \n",
    "    Args:\n",
    "        Sb (torch.Tensor BxDxD): The input covariance matrix\n",
    "        metaGLADmodel (dict): Contains the learnable params\n",
    "    \n",
    "    Returns:\n",
    "        loss (torch.scalar): The meta loss \n",
    "        predTheta (torch.Tensor BxDxD): The predicted theta\n",
    "    \"\"\"\n",
    "    # 1. Running the GLAD model \n",
    "    predTheta = glad.glad(Sb, model_glad)\n",
    "    # print(f'predTheta: {predTheta}')\n",
    "    # 2. Calculate the meta-loss\n",
    "    loss = lossGLADmeta(predTheta, Sb)\n",
    "    return loss, predTheta\n",
    "\n",
    "\n",
    "def GLAD_Meta_main(Xb, trueTheta=None, EPOCHS=50):\n",
    "    \"\"\"Running the DAG Meta algorithm.\n",
    "    \n",
    "    Args:\n",
    "        Xb (torch.Tensor BxMxD): The input sample matrix\n",
    "        trueDAG (torch.Tensor BxDxD): The corresponding \n",
    "            true DAGs for reporting metrics.\n",
    "        EPOCHS (int): The number of training epochs\n",
    "        \n",
    "    \"\"\"\n",
    "    # Calculating the batch covariance\n",
    "    B, M, D = Xb.shape\n",
    "    Sb = prepare_data.getCovariance(Xb) # BxDxD\n",
    "    # optimizer and model for GLAD\n",
    "    model_glad, optimizer_glad = initGLAD()    \n",
    "    # Optimizing for the meta loss\n",
    "    for e in range(EPOCHS):      \n",
    "        # reset the grads to zero\n",
    "        optimizer_glad.zero_grad()\n",
    "        # calculate the loss\n",
    "        loss, predTheta = runGLAD(Sb, model_glad)\n",
    "        # calculate the backward gradients\n",
    "        loss.backward()\n",
    "        print(f'epoch:{e}/{EPOCHS} loss:{loss.detach().numpy()}')\n",
    "        # updating the optimizer params with the grads\n",
    "        optimizer_glad.step()\n",
    "        # reporting the metrics if true DAGs provided\n",
    "        if trueTheta is not None and (e+1)%EPOCHS == 0:\n",
    "            for b in range(B):\n",
    "                compare_theta = reportMetrics(\n",
    "                    trueTheta[b].detach().numpy(), \n",
    "                    predTheta[b].detach().numpy()\n",
    "                )\n",
    "                print(f'Batch:{b} - {compare_theta}')"
   ]
  },
  {
   "cell_type": "code",
   "execution_count": 5,
   "metadata": {
    "scrolled": true
   },
   "outputs": [
    {
     "name": "stdout",
     "output_type": "stream",
     "text": [
      "epoch:0/50 loss:15.407833099365234\n",
      "epoch:1/50 loss:14.706966400146484\n",
      "epoch:2/50 loss:14.441723823547363\n",
      "epoch:3/50 loss:14.288818359375\n",
      "epoch:4/50 loss:14.00145149230957\n",
      "epoch:5/50 loss:13.23261833190918\n",
      "epoch:6/50 loss:12.17892837524414\n",
      "epoch:7/50 loss:11.178218841552734\n",
      "epoch:8/50 loss:10.343488693237305\n",
      "epoch:9/50 loss:9.343017578125\n",
      "epoch:10/50 loss:9.262606620788574\n",
      "epoch:11/50 loss:9.162870407104492\n",
      "epoch:12/50 loss:9.224103927612305\n",
      "epoch:13/50 loss:8.863062858581543\n",
      "epoch:14/50 loss:8.64699649810791\n",
      "epoch:15/50 loss:8.55723762512207\n",
      "epoch:16/50 loss:8.505102157592773\n",
      "epoch:17/50 loss:8.465518951416016\n",
      "epoch:18/50 loss:8.418127059936523\n",
      "epoch:19/50 loss:8.381132125854492\n",
      "epoch:20/50 loss:8.352457046508789\n",
      "epoch:21/50 loss:8.3326997756958\n",
      "epoch:22/50 loss:8.317798614501953\n",
      "epoch:23/50 loss:8.303499221801758\n",
      "epoch:24/50 loss:8.289525032043457\n",
      "epoch:25/50 loss:8.27793025970459\n",
      "epoch:26/50 loss:8.266629219055176\n",
      "epoch:27/50 loss:8.256170272827148\n",
      "epoch:28/50 loss:8.246692657470703\n",
      "epoch:29/50 loss:8.239039421081543\n",
      "epoch:30/50 loss:8.232412338256836\n",
      "epoch:31/50 loss:8.225933074951172\n",
      "epoch:32/50 loss:8.220319747924805\n",
      "epoch:33/50 loss:8.215262413024902\n",
      "epoch:34/50 loss:8.210886001586914\n",
      "epoch:35/50 loss:8.20718765258789\n",
      "epoch:36/50 loss:8.203923225402832\n",
      "epoch:37/50 loss:8.201141357421875\n",
      "epoch:38/50 loss:8.198771476745605\n",
      "epoch:39/50 loss:8.196433067321777\n",
      "epoch:40/50 loss:8.194352149963379\n",
      "epoch:41/50 loss:8.192394256591797\n",
      "epoch:42/50 loss:8.190688133239746\n",
      "epoch:43/50 loss:8.189126014709473\n",
      "epoch:44/50 loss:8.18768310546875\n",
      "epoch:45/50 loss:8.186384201049805\n",
      "epoch:46/50 loss:8.185253143310547\n",
      "epoch:47/50 loss:8.184111595153809\n",
      "epoch:48/50 loss:8.183113098144531\n",
      "epoch:49/50 loss:8.182090759277344\n",
      "Batch:0 - {'FDR': 0.7222222222222222, 'TPR': 1.0, 'FPR': 0.7428571428571429, 'SHD': 26, 'nnzTrue': 10, 'nnzPred': 36, 'precsion': 0.2777777777777778, 'recall': 1.0, 'Fbeta': 0.43478260869565216, 'aupr': 1.0, 'auc': 1.0}\n",
      "Batch:1 - {'FDR': 0.7894736842105263, 'TPR': 1.0, 'FPR': 0.8108108108108109, 'SHD': 30, 'nnzTrue': 8, 'nnzPred': 38, 'precsion': 0.21052631578947367, 'recall': 1.0, 'Fbeta': 0.34782608695652173, 'aupr': 1.0, 'auc': 1.0}\n"
     ]
    }
   ],
   "source": [
    "GLAD_Meta_main(Xb, trueTheta)"
   ]
  },
  {
   "cell_type": "code",
   "execution_count": null,
   "metadata": {},
   "outputs": [],
   "source": []
  }
 ],
 "metadata": {
  "kernelspec": {
   "display_name": "Python 3 (ipykernel)",
   "language": "python",
   "name": "python3"
  },
  "language_info": {
   "codemirror_mode": {
    "name": "ipython",
    "version": 3
   },
   "file_extension": ".py",
   "mimetype": "text/x-python",
   "name": "python",
   "nbconvert_exporter": "python",
   "pygments_lexer": "ipython3",
   "version": "3.8.11"
  }
 },
 "nbformat": 4,
 "nbformat_minor": 2
}
