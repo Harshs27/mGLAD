{
 "cells": [
  {
   "cell_type": "markdown",
   "metadata": {},
   "source": [
    "## A minimalist example for recovering sparse graphs using `mGLAD`\n",
    "\n",
    "Fitting meta-GLAD on a batch of erdos-renyi random sparse graphs with samples obtained from a corresponding multivariate Gaussian distribution  \n",
    "\n",
    "### About `mGLAD` \n",
    "A meta learning based approach to recover sparse graphs. This work proposes `mGLAD` which is a unsupervised version of a previous `GLAD` model (GLAD: Learning Sparse Graph Recovery (ICLR 2020 - [link](<https://openreview.net/forum?id=BkxpMTEtPB>)).  \n",
    "\n",
    "Key Benefits & features:  \n",
    "- It is a fast alternative to solving the Graphical Lasso problem as\n",
    "    - GPU based acceleration can be leveraged\n",
    "    - Requires less number of iterations to converge due to neural network based acceleration of the unrolled optimization algorithm (Alternating Minimization).     \n",
    "- mGLAD automatically learns the sparsity related regularization parameters. This gives an added benefit to mGLAD over other graphical lasso solvers.  \n",
    "- The meta loss is the logdet objective of the graphical lasso `1/B(-1*log|theta|+ <S, theta>)`, where `B=batch_size, S=input covariance matrix, theta=predicted precision matrix`.   "
   ]
  },
  {
   "cell_type": "code",
   "execution_count": 25,
   "metadata": {},
   "outputs": [
    {
     "name": "stdout",
     "output_type": "stream",
     "text": [
      "The autoreload extension is already loaded. To reload it, use:\n",
      "  %reload_ext autoreload\n",
      "/home/harshx/anaconda3/envs/dagM\n"
     ]
    }
   ],
   "source": [
    "import os, sys\n",
    "# reloads modules automatically before entering the \n",
    "# execution of code typed at the IPython prompt.\n",
    "%load_ext autoreload\n",
    "%autoreload 2\n",
    "# install jupyter-notebook in the env if the prefix does not \n",
    "# show the desired virtual env. \n",
    "print(sys.prefix)\n",
    "import warnings\n",
    "warnings.filterwarnings('ignore')"
   ]
  },
  {
   "cell_type": "code",
   "execution_count": 26,
   "metadata": {},
   "outputs": [
    {
     "data": {
      "text/plain": [
       "'1.9.0'"
      ]
     },
     "execution_count": 26,
     "metadata": {},
     "output_type": "execute_result"
    }
   ],
   "source": [
    "import torch\n",
    "torch.__version__"
   ]
  },
  {
   "cell_type": "markdown",
   "metadata": {},
   "source": [
    "### Create Synthetic data"
   ]
  },
  {
   "cell_type": "code",
   "execution_count": 27,
   "metadata": {
    "scrolled": true
   },
   "outputs": [
    {
     "name": "stdout",
     "output_type": "stream",
     "text": [
      "TrueTheta: (2, 10, 10), Samples (2, 500, 10)\n"
     ]
    }
   ],
   "source": [
    "from scripts import main\n",
    "# Xb = samples batch, trueTheta = corresponding true precision matrices\n",
    "Xb, trueTheta = main.getGLADdata(\n",
    "    num_nodes=10, \n",
    "    sparsity=0.2, \n",
    "    num_samples=500, \n",
    "    batch_size=2\n",
    ")    \n",
    "print(f'TrueTheta: {trueTheta.shape}, Samples {Xb.shape}')"
   ]
  },
  {
   "cell_type": "markdown",
   "metadata": {},
   "source": [
    "### Running the GLAD-Meta algorithm\n",
    "Until Convergence:  \n",
    "\n",
    "    1. Initialize learnable `GLAD` parameters\n",
    "    2. Run the GLAD model\n",
    "    3. Get the meta-loss\n",
    "    4. Backprop\n",
    "\n",
    "Possible reasons if `mGLAD` does not converge: \n",
    "\n",
    "    1. Please re-run. This will run the optimization with different initializations  \n",
    "    2. Lower the learning rate  \n",
    "    3. Change the INIT_DIAG=0/1 in the `GLAD` model parameters"
   ]
  },
  {
   "cell_type": "code",
   "execution_count": 28,
   "metadata": {},
   "outputs": [],
   "source": [
    "# main source file for meta-GLAD\n",
    "\n",
    "# Helper functions for DAG Meta\n",
    "from scripts.glad.glad_model import glad_params\n",
    "from scripts.glad import glad\n",
    "from scripts.main import lossGLADmeta\n",
    "from scripts.utils import prepare_data\n",
    "from scripts.utils.metrics import reportMetrics\n",
    "\n",
    "from pprint import pprint\n",
    "\n",
    "def initGLAD():\n",
    "    \"\"\"\n",
    "    Initialize the GLAD model parameters and the optimizer\n",
    "    to be used.\n",
    "    \"\"\"\n",
    "    model = glad_params(theta_init_offset=0.1, nF=3, H=3)\n",
    "    optimizer = glad.get_optimizers(model)\n",
    "    return model, optimizer\n",
    "\n",
    "def runGLAD(Sb, model_glad):\n",
    "    \"\"\"Run the input through the GLAD meta algorithm.\n",
    "    It executes the following steps in batch mode\n",
    "    1. Run the GLAD model to get initial good regularization\n",
    "    2. Calculate the meta-loss\n",
    "    \n",
    "    Args:\n",
    "        Sb (torch.Tensor BxDxD): The input covariance matrix\n",
    "        metaGLADmodel (dict): Contains the learnable params\n",
    "    \n",
    "    Returns:\n",
    "        loss (torch.scalar): The meta loss \n",
    "        predTheta (torch.Tensor BxDxD): The predicted theta\n",
    "    \"\"\"\n",
    "    # 1. Running the GLAD model \n",
    "    predTheta = glad.glad(Sb, model_glad)\n",
    "    # 2. Calculate the meta-loss\n",
    "    loss = lossGLADmeta(predTheta, Sb)\n",
    "    return loss, predTheta\n",
    "\n",
    "\n",
    "def GLAD_Meta_main(Xb, trueTheta=None, EPOCHS=100):\n",
    "    \"\"\"Running the DAG Meta algorithm.\n",
    "    \n",
    "    Args:\n",
    "        Xb (torch.Tensor BxMxD): The input sample matrix\n",
    "        trueDAG (torch.Tensor BxDxD): The corresponding \n",
    "            true DAGs for reporting metrics.\n",
    "        EPOCHS (int): The number of training epochs\n",
    "        \n",
    "    \"\"\"\n",
    "    # Calculating the batch covariance\n",
    "    Sb = prepare_data.getCovariance(Xb) # BxDxD\n",
    "    # Converting the data to torch \n",
    "    Xb = prepare_data.convertToTorch(Xb, req_grad=False)\n",
    "    Sb = prepare_data.convertToTorch(Sb, req_grad=False)\n",
    "    trueTheta = prepare_data.convertToTorch(\n",
    "        trueTheta,\n",
    "        req_grad=False\n",
    "        )\n",
    "    B, M, D = Xb.shape\n",
    "    # optimizer and model for GLAD\n",
    "    model_glad, optimizer_glad = initGLAD()\n",
    "    # Optimizing for the meta loss\n",
    "    for e in range(EPOCHS):      \n",
    "        # reset the grads to zero\n",
    "        optimizer_glad.zero_grad()\n",
    "        # calculate the loss\n",
    "        loss, predTheta = runGLAD(Sb, model_glad)\n",
    "        # calculate the backward gradients\n",
    "        loss.backward()\n",
    "        if not e%5: print(f'epoch:{e}/{EPOCHS} loss:{loss.detach().numpy()}')\n",
    "        # updating the optimizer params with the grads\n",
    "        optimizer_glad.step()\n",
    "        # reporting the metrics if true DAGs provided\n",
    "        if trueTheta is not None and (e+1)%EPOCHS == 0:\n",
    "            for b in range(B):\n",
    "                compare_theta = reportMetrics(\n",
    "                    trueTheta[b].detach().numpy(), \n",
    "                    predTheta[b].detach().numpy()\n",
    "                )\n",
    "                print(f'Batch:{b} - {compare_theta}')"
   ]
  },
  {
   "cell_type": "code",
   "execution_count": 29,
   "metadata": {
    "scrolled": true
   },
   "outputs": [
    {
     "name": "stdout",
     "output_type": "stream",
     "text": [
      "epoch:0/100 loss:22.4853515625\n",
      "epoch:5/100 loss:14.046453475952148\n",
      "epoch:10/100 loss:14.15701675415039\n",
      "epoch:15/100 loss:14.054498672485352\n",
      "epoch:20/100 loss:14.00020980834961\n",
      "epoch:25/100 loss:13.79736328125\n",
      "epoch:30/100 loss:13.154321670532227\n",
      "epoch:35/100 loss:12.095405578613281\n",
      "epoch:40/100 loss:10.521327018737793\n",
      "epoch:45/100 loss:9.048099517822266\n",
      "epoch:50/100 loss:8.382542610168457\n",
      "epoch:55/100 loss:8.588484764099121\n",
      "epoch:60/100 loss:8.652532577514648\n",
      "epoch:65/100 loss:8.83979606628418\n",
      "epoch:70/100 loss:8.721125602722168\n",
      "epoch:75/100 loss:8.519143104553223\n",
      "epoch:80/100 loss:8.36604118347168\n",
      "epoch:85/100 loss:8.290515899658203\n",
      "epoch:90/100 loss:8.276649475097656\n",
      "epoch:95/100 loss:8.292739868164062\n",
      "Batch:0 - {'FDR': 0.0, 'TPR': 1.0, 'FPR': 0.0, 'SHD': 0, 'nnzTrue': 11, 'nnzPred': 11, 'precsion': 1.0, 'recall': 1.0, 'Fbeta': 1.0, 'aupr': 1.0, 'auc': 1.0}\n",
      "Batch:1 - {'FDR': 0.0, 'TPR': 1.0, 'FPR': 0.0, 'SHD': 0, 'nnzTrue': 9, 'nnzPred': 9, 'precsion': 1.0, 'recall': 1.0, 'Fbeta': 1.0, 'aupr': 1.0, 'auc': 1.0}\n"
     ]
    }
   ],
   "source": [
    "GLAD_Meta_main(Xb, trueTheta)"
   ]
  },
  {
   "cell_type": "code",
   "execution_count": null,
   "metadata": {},
   "outputs": [],
   "source": []
  }
 ],
 "metadata": {
  "kernelspec": {
   "display_name": "Python 3 (ipykernel)",
   "language": "python",
   "name": "python3"
  },
  "language_info": {
   "codemirror_mode": {
    "name": "ipython",
    "version": 3
   },
   "file_extension": ".py",
   "mimetype": "text/x-python",
   "name": "python",
   "nbconvert_exporter": "python",
   "pygments_lexer": "ipython3",
   "version": "3.8.11"
  }
 },
 "nbformat": 4,
 "nbformat_minor": 2
}
