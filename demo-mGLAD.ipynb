{
 "cells": [
  {
   "cell_type": "markdown",
   "metadata": {},
   "source": [
    "## A minimalist example for recovering sparse graphs using `mGLAD`\n",
    "\n",
    "Fitting meta-GLAD on a batch of erdos-renyi random sparse graphs with samples obtained from a corresponding multivariate Gaussian distribution  \n",
    "\n",
    "### About `mGLAD` \n",
    "A meta learning based approach to recover sparse graphs. This work proposes `mGLAD` which is a unsupervised version of a previous `GLAD` model (GLAD: Learning Sparse Graph Recovery (ICLR 2020 - [link](<https://openreview.net/forum?id=BkxpMTEtPB>)).  \n",
    "\n",
    "Key Benefits & features:  \n",
    "- It is a fast alternative to solving the Graphical Lasso problem as\n",
    "    - GPU based acceleration can be leveraged\n",
    "    - Requires less number of iterations to converge due to neural network based acceleration of the unrolled optimization algorithm (Alternating Minimization).     \n",
    "- mGLAD automatically learns the sparsity related regularization parameters. This gives an added benefit to mGLAD over other graphical lasso solvers.  \n",
    "- The meta loss is the logdet objective of the graphical lasso `1/B(-1*log|theta|+ <S, theta>)`, where `B=batch_size, S=input covariance matrix, theta=predicted precision matrix`.   "
   ]
  },
  {
   "cell_type": "code",
   "execution_count": null,
   "metadata": {},
   "outputs": [],
   "source": [
    "import os, sys\n",
    "# reloads modules automatically before entering the \n",
    "# execution of code typed at the IPython prompt.\n",
    "%load_ext autoreload\n",
    "%autoreload 2\n",
    "# install jupyter-notebook in the env if the prefix does not \n",
    "# show the desired virtual env. \n",
    "print(sys.prefix)\n",
    "import warnings\n",
    "warnings.filterwarnings('ignore')"
   ]
  },
  {
   "cell_type": "code",
   "execution_count": 2,
   "metadata": {},
   "outputs": [
    {
     "data": {
      "text/plain": [
       "'1.9.0'"
      ]
     },
     "execution_count": 2,
     "metadata": {},
     "output_type": "execute_result"
    }
   ],
   "source": [
    "import torch\n",
    "torch.__version__"
   ]
  },
  {
   "cell_type": "markdown",
   "metadata": {},
   "source": [
    "### Create Synthetic data"
   ]
  },
  {
   "cell_type": "code",
   "execution_count": 3,
   "metadata": {
    "scrolled": true
   },
   "outputs": [
    {
     "name": "stdout",
     "output_type": "stream",
     "text": [
      "TrueTheta: torch.Size([2, 10, 10]), Samples torch.Size([2, 500, 10])\n"
     ]
    }
   ],
   "source": [
    "from scripts import main\n",
    "# Xb = samples batch, trueTheta = corresponding true precision matrices\n",
    "Xb, trueTheta = main.getGLADdata(\n",
    "    num_nodes=10, \n",
    "    sparsity=0.2, \n",
    "    num_samples=500, \n",
    "    batch_size=2\n",
    ")    \n",
    "print(f'TrueTheta: {trueTheta.shape}, Samples {Xb.shape}')"
   ]
  },
  {
   "cell_type": "markdown",
   "metadata": {},
   "source": [
    "### Running the GLAD-Meta algorithm\n",
    "Until Convergence:  \n",
    "\n",
    "    1. Initialize learnable `GLAD` parameters\n",
    "    2. Run the GLAD model\n",
    "    3. Get the meta-loss\n",
    "    4. Backprop\n",
    "\n",
    "Possible reasons if `mGLAD` does not converge: \n",
    "\n",
    "    1. Please re-run. This will run the optimization with different initializations  \n",
    "    2. Lower the learning rate  \n",
    "    3. Change the INIT_DIAG=0/1 in the `GLAD` model parameters"
   ]
  },
  {
   "cell_type": "code",
   "execution_count": 4,
   "metadata": {},
   "outputs": [],
   "source": [
    "# main source file for meta-GLAD\n",
    "\n",
    "# Helper functions for DAG Meta\n",
    "from scripts.glad.glad_model import glad_params\n",
    "from scripts.glad import glad\n",
    "from scripts.main import lossGLADmeta\n",
    "from scripts.utils import prepare_data\n",
    "from scripts.utils.metrics import reportMetrics\n",
    "\n",
    "from pprint import pprint\n",
    "\n",
    "def initGLAD():\n",
    "    \"\"\"\n",
    "    Initialize the GLAD model parameters and the optimizer\n",
    "    to be used.\n",
    "    \"\"\"\n",
    "    model = glad_params(theta_init_offset=0.1, nF=3, H=3)\n",
    "    optimizer = glad.get_optimizers(model)\n",
    "    return model, optimizer\n",
    "\n",
    "def runGLAD(Sb, model_glad):\n",
    "    \"\"\"Run the input through the GLAD meta algorithm.\n",
    "    It executes the following steps in batch mode\n",
    "    1. Run the GLAD model to get initial good regularization\n",
    "    2. Calculate the meta-loss\n",
    "    \n",
    "    Args:\n",
    "        Sb (torch.Tensor BxDxD): The input covariance matrix\n",
    "        metaGLADmodel (dict): Contains the learnable params\n",
    "    \n",
    "    Returns:\n",
    "        loss (torch.scalar): The meta loss \n",
    "        predTheta (torch.Tensor BxDxD): The predicted theta\n",
    "    \"\"\"\n",
    "    # 1. Running the GLAD model \n",
    "    predTheta = glad.glad(Sb, model_glad)\n",
    "    # 2. Calculate the meta-loss\n",
    "    loss = lossGLADmeta(predTheta, Sb)\n",
    "    return loss, predTheta\n",
    "\n",
    "\n",
    "def GLAD_Meta_main(Xb, trueTheta=None, EPOCHS=50):\n",
    "    \"\"\"Running the DAG Meta algorithm.\n",
    "    \n",
    "    Args:\n",
    "        Xb (torch.Tensor BxMxD): The input sample matrix\n",
    "        trueDAG (torch.Tensor BxDxD): The corresponding \n",
    "            true DAGs for reporting metrics.\n",
    "        EPOCHS (int): The number of training epochs\n",
    "        \n",
    "    \"\"\"\n",
    "    # Calculating the batch covariance\n",
    "    B, M, D = Xb.shape\n",
    "    Sb = prepare_data.getCovariance(Xb) # BxDxD\n",
    "    # optimizer and model for GLAD\n",
    "    model_glad, optimizer_glad = initGLAD()    \n",
    "    # Optimizing for the meta loss\n",
    "    for e in range(EPOCHS):      \n",
    "        # reset the grads to zero\n",
    "        optimizer_glad.zero_grad()\n",
    "        # calculate the loss\n",
    "        loss, predTheta = runGLAD(Sb, model_glad)\n",
    "        # calculate the backward gradients\n",
    "        loss.backward()\n",
    "        print(f'epoch:{e}/{EPOCHS} loss:{loss.detach().numpy()}')\n",
    "        # updating the optimizer params with the grads\n",
    "        optimizer_glad.step()\n",
    "        # reporting the metrics if true DAGs provided\n",
    "        if trueTheta is not None and (e+1)%EPOCHS == 0:\n",
    "            for b in range(B):\n",
    "                compare_theta = reportMetrics(\n",
    "                    trueTheta[b].detach().numpy(), \n",
    "                    predTheta[b].detach().numpy()\n",
    "                )\n",
    "                print(f'Batch:{b} - {compare_theta}')"
   ]
  },
  {
   "cell_type": "code",
   "execution_count": 5,
   "metadata": {
    "scrolled": true
   },
   "outputs": [
    {
     "name": "stdout",
     "output_type": "stream",
     "text": [
      "epoch:0/50 loss:15.626142501831055\n",
      "epoch:1/50 loss:14.745260238647461\n",
      "epoch:2/50 loss:14.628384590148926\n",
      "epoch:3/50 loss:14.539222717285156\n",
      "epoch:4/50 loss:14.08952522277832\n",
      "epoch:5/50 loss:13.352099418640137\n",
      "epoch:6/50 loss:12.430947303771973\n",
      "epoch:7/50 loss:11.43539810180664\n",
      "epoch:8/50 loss:10.578899383544922\n",
      "epoch:9/50 loss:9.953746795654297\n",
      "epoch:10/50 loss:9.516615867614746\n",
      "epoch:11/50 loss:9.219841957092285\n",
      "epoch:12/50 loss:9.005231857299805\n",
      "epoch:13/50 loss:8.861539840698242\n",
      "epoch:14/50 loss:8.76992130279541\n",
      "epoch:15/50 loss:8.712407112121582\n",
      "epoch:16/50 loss:8.680265426635742\n",
      "epoch:17/50 loss:8.668645858764648\n",
      "epoch:18/50 loss:8.674535751342773\n",
      "epoch:19/50 loss:8.676127433776855\n",
      "epoch:20/50 loss:8.659995079040527\n",
      "epoch:21/50 loss:8.632818222045898\n",
      "epoch:22/50 loss:8.613653182983398\n",
      "epoch:23/50 loss:8.604607582092285\n",
      "epoch:24/50 loss:8.599124908447266\n",
      "epoch:25/50 loss:8.595662117004395\n",
      "epoch:26/50 loss:8.592811584472656\n",
      "epoch:27/50 loss:8.590316772460938\n",
      "epoch:28/50 loss:8.5883150100708\n",
      "epoch:29/50 loss:8.58679485321045\n",
      "epoch:30/50 loss:8.585500717163086\n",
      "epoch:31/50 loss:8.58441162109375\n",
      "epoch:32/50 loss:8.583430290222168\n",
      "epoch:33/50 loss:8.582595825195312\n",
      "epoch:34/50 loss:8.581869125366211\n",
      "epoch:35/50 loss:8.581212043762207\n",
      "epoch:36/50 loss:8.580097198486328\n",
      "epoch:37/50 loss:8.578958511352539\n",
      "epoch:38/50 loss:8.577856063842773\n",
      "epoch:39/50 loss:8.576911926269531\n",
      "epoch:40/50 loss:8.575983047485352\n",
      "epoch:41/50 loss:8.575117111206055\n",
      "epoch:42/50 loss:8.574361801147461\n",
      "epoch:43/50 loss:8.573570251464844\n",
      "epoch:44/50 loss:8.572864532470703\n",
      "epoch:45/50 loss:8.572181701660156\n",
      "epoch:46/50 loss:8.571558952331543\n",
      "epoch:47/50 loss:8.570355415344238\n",
      "epoch:48/50 loss:8.564045906066895\n",
      "epoch:49/50 loss:8.556144714355469\n",
      "Batch:0 - {'FDR': 0.7272727272727273, 'TPR': 1.0, 'FPR': 0.9696969696969697, 'SHD': 32, 'nnzTrue': 12, 'nnzPred': 44, 'precsion': 0.2727272727272727, 'recall': 1.0, 'Fbeta': 0.42857142857142855, 'aupr': 1.0, 'auc': 1.0}\n",
      "Batch:1 - {'FDR': 0.7906976744186046, 'TPR': 1.0, 'FPR': 0.9444444444444444, 'SHD': 34, 'nnzTrue': 9, 'nnzPred': 43, 'precsion': 0.20930232558139536, 'recall': 1.0, 'Fbeta': 0.34615384615384615, 'aupr': 1.0, 'auc': 1.0}\n"
     ]
    }
   ],
   "source": [
    "GLAD_Meta_main(Xb, trueTheta)"
   ]
  },
  {
   "cell_type": "code",
   "execution_count": null,
   "metadata": {},
   "outputs": [],
   "source": []
  }
 ],
 "metadata": {
  "kernelspec": {
   "display_name": "Python 3 (ipykernel)",
   "language": "python",
   "name": "python3"
  },
  "language_info": {
   "codemirror_mode": {
    "name": "ipython",
    "version": 3
   },
   "file_extension": ".py",
   "mimetype": "text/x-python",
   "name": "python",
   "nbconvert_exporter": "python",
   "pygments_lexer": "ipython3",
   "version": "3.8.11"
  }
 },
 "nbformat": 4,
 "nbformat_minor": 2
}
